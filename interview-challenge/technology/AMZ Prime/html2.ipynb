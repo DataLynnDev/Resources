{
  "cells": [
    {
      "cell_type": "markdown",
      "metadata": {
        "id": "aZbxSYd5yNbi"
      },
      "source": [
        "## Questions 1:\n",
        "\n",
        "**Data Cleaning & Exploration**\n",
        "\n",
        "**Scenario**: We've received the `Prime_Content_Usage` table from a new source. Before any in-depth analysis, it's vital to ensure that the data's quality meets Amazon's standards.\n",
        "\n",
        "a) Identify any missing values in the `Prime_Content_Usage` table.\n",
        "\n",
        "b) Explore and handle outliers in the `viewDuration` column.\n",
        "\n",
        "c) Ensure that the `watchDate` column follows a unified date format."
      ]
    },
    {
      "cell_type": "markdown",
      "metadata": {
        "id": "KZyC0_TAztuH"
      },
      "source": [
        "## Solution"
      ]
    },
    {
      "cell_type": "markdown",
      "metadata": {
        "id": "fiUmxBrwFSlZ"
      },
      "source": [
        "### **Hint:**\n",
        "1. Handle missing values appropriately.\n",
        "2. Explore and treat outliers in continuous data like `viewDuration`.\n",
        "3. Ensure data formats are consistent across the dataset, especially for dates."
      ]
    },
    {
      "cell_type": "markdown",
      "metadata": {
        "id": "PRAaBiSrt33v"
      },
      "source": [
        "### Step 1: Identify & Handle Missing Values:"
      ]
    },
    {
      "cell_type": "markdown",
      "metadata": {
        "id": "x458LcHOt6DT"
      },
      "source": [
        "Identify any missing values in the `Prime_Content_Usage` table by using `pandas`:"
      ]
    },
    {
      "cell_type": "code",
      "execution_count": null,
      "metadata": {
        "colab": {
          "base_uri": "https://localhost:8080/"
        },
        "id": "6UasA8ACuLoV",
        "outputId": "d0cf2e82-afe8-47bd-ade5-5a9ef3642436"
      },
      "outputs": [
        {
          "output_type": "stream",
          "name": "stdout",
          "text": [
            "userID           0\n",
            "contentID        0\n",
            "contentType      0\n",
            "genre           55\n",
            "viewDuration     0\n",
            "watchDate        0\n",
            "dtype: int64\n"
          ]
        }
      ],
      "source": [
        "import pandas as pd\n",
        "\n",
        "print(prime_content.isnull().sum())"
      ]
    },
    {
      "cell_type": "markdown",
      "metadata": {
        "id": "KwXDOwpJt_i5"
      },
      "source": [
        "The code will display the number of missing values in each column. Depending on the business rules or domain knowledge, we can decide whether to impute, drop, or take other corrective actions for these missing values.\n",
        "\n",
        "**These are the strategies to handle missing values in `genre`:**\n",
        "1. Remove Rows with Missing Values.\n",
        "2. Fill with a Specific Value or 'Unknown'\n",
        "3. Use Predictive Techniques like KNN imputer\n",
        "4. Fill with the Most Frequent Value\n",
        "\n",
        "\n",
        "Here, we will label them as 'Unknown':"
      ]
    },
    {
      "cell_type": "code",
      "execution_count": null,
      "metadata": {
        "id": "ammaKpvvwwpz"
      },
      "outputs": [],
      "source": [
        "prime_content['genre'].fillna('Unknown', inplace=True)"
      ]
    },
    {
      "cell_type": "markdown",
      "metadata": {
        "id": "ZhYMppL2wyaT"
      },
      "source": [
        "Check the missing values again:"
      ]
    },
    {
      "cell_type": "code",
      "execution_count": null,
      "metadata": {
        "colab": {
          "base_uri": "https://localhost:8080/"
        },
        "id": "BMtmO9y1w1gx",
        "outputId": "5947c44e-fe78-4715-83b0-7ed611617c5a"
      },
      "outputs": [
        {
          "output_type": "stream",
          "name": "stdout",
          "text": [
            "userID          0\n",
            "contentID       0\n",
            "contentType     0\n",
            "genre           0\n",
            "viewDuration    0\n",
            "watchDate       0\n",
            "dtype: int64\n"
          ]
        }
      ],
      "source": [
        "print(prime_content.isnull().sum())"
      ]
    },
    {
      "cell_type": "markdown",
      "metadata": {
        "id": "g4LKRXo_xGx8"
      },
      "source": [
        "### Step 2: Handle Outliers:"
      ]
    },
    {
      "cell_type": "markdown",
      "metadata": {
        "id": "RUIJ7sJ5xQi6"
      },
      "source": [
        "To identify outliers in the `viewDuration` column, one common method is to use the IQR (Interquartile Range):"
      ]
    },
    {
      "cell_type": "code",
      "execution_count": null,
      "metadata": {
        "colab": {
          "base_uri": "https://localhost:8080/"
        },
        "id": "P2R7NjuSxePg",
        "outputId": "8910e1c5-8d2e-44b2-9701-57addaedd150"
      },
      "outputs": [
        {
          "output_type": "stream",
          "name": "stdout",
          "text": [
            "Outliers in Music Content:\n",
            "     userID  contentID contentType    genre  viewDuration         watchDate\n",
            "23       24         24       Music      POP     57.038880  11-10-2022 19:36\n",
            "76       77         77       Music      Pop     32.180126  2022-12-03 19:36\n",
            "130     131        131       Music     Rock     48.640335  2023-01-26 19:36\n",
            "197     198        198       Music      Pop     48.785285  03-04-2023 19:36\n",
            "279     280        280       Music      Pop     38.068768  2023-06-24 19:36\n",
            "429     430        430       Music  Unknown     54.600379  2023-11-21 19:36\n",
            "564     565        565       Music      Pop     46.361434  2024-04-04 19:36\n",
            "577     578        578       Music     Rock     44.336353  17-04-2024 19:36\n",
            "602     603        603       Music     Jazz     34.515645  2024-05-12 19:36\n",
            "693     694        694       Music      Pop     31.784147  2024-08-11 19:36\n",
            "734     735        735       Music  Unknown     36.019531  21-09-2024 19:36\n",
            "736     737        737       Music  Unknown     32.694365  2024-09-23 19:36\n",
            "984     985        985       Music      Pop     33.144242  2025-05-29 19:36\n",
            "\n",
            "Outliers in Video Content:\n",
            "Empty DataFrame\n",
            "Columns: [userID, contentID, contentType, genre, viewDuration, watchDate]\n",
            "Index: []\n"
          ]
        }
      ],
      "source": [
        "## Outlier Detection for 'Music' content:\n",
        "# Filter for Music content\n",
        "music_data = prime_content[prime_content['contentType'] == 'Music']\n",
        "\n",
        "# Calculate Q1, Q3, and IQR for Music\n",
        "Q1_music = music_data['viewDuration'].quantile(0.25)\n",
        "Q3_music = music_data['viewDuration'].quantile(0.75)\n",
        "IQR_music = Q3_music - Q1_music\n",
        "\n",
        "# Define bounds for Music\n",
        "lower_bound_music = Q1_music - 1.5 * IQR_music\n",
        "upper_bound_music = Q3_music + 1.5 * IQR_music\n",
        "\n",
        "# Identify outliers for Music\n",
        "outliers_music = music_data[(music_data['viewDuration'] < lower_bound_music) | (music_data['viewDuration'] > upper_bound_music)]\n",
        "print(\"Outliers in Music Content:\")\n",
        "print(outliers_music)\n",
        "\n",
        "\n",
        "## Outlier Detection for 'Video' content:\n",
        "# Filter for Video content\n",
        "video_data = prime_content[prime_content['contentType'] == 'Video']\n",
        "\n",
        "# Calculate Q1, Q3, and IQR for Video\n",
        "Q1_video = video_data['viewDuration'].quantile(0.25)\n",
        "Q3_video = video_data['viewDuration'].quantile(0.75)\n",
        "IQR_video = Q3_video - Q1_video\n",
        "\n",
        "# Define bounds for Video\n",
        "lower_bound_video = Q1_video - 1.5 * IQR_video\n",
        "upper_bound_video = Q3_video + 1.5 * IQR_video\n",
        "\n",
        "# Identify outliers for Video\n",
        "outliers_video = video_data[(video_data['viewDuration'] < lower_bound_video) | (video_data['viewDuration'] > upper_bound_video)]\n",
        "print(\"\\nOutliers in Video Content:\")\n",
        "print(outliers_video)"
      ]
    },
    {
      "cell_type": "markdown",
      "metadata": {
        "id": "UIvmEIHMyEGZ"
      },
      "source": [
        "Visualizing outliers using a boxplot for `Music`:"
      ]
    },
    {
      "cell_type": "code",
      "execution_count": null,
      "metadata": {
        "colab": {
          "base_uri": "https://localhost:8080/",
          "height": 564
        },
        "id": "GaYP8-hGyEZr",
        "outputId": "3308c624-497c-4a6e-c8b7-f16a9fcf6ad2"
      },
      "outputs": [
        {
          "output_type": "display_data",
          "data": {
            "text/plain": [
              "<Figure size 1200x600 with 1 Axes>"
            ],
            "image/png": "[encoded data removed]"
          },
          "metadata": {}
        }
      ],
      "source": [
        "import matplotlib.pyplot as plt\n",
        "import seaborn as sns\n",
        "\n",
        "# Filter for Music content\n",
        "music_data = prime_content[prime_content['contentType'] == 'Music']\n",
        "\n",
        "# Plot the viewDuration for Music content\n",
        "plt.figure(figsize=(12, 6))\n",
        "sns.boxplot(x=music_data['viewDuration'])\n",
        "\n",
        "plt.title('Boxplot of View Duration for Music Content')\n",
        "plt.xlabel('View Duration (minutes)')\n",
        "plt.show()\n"
      ]
    },
    {
      "cell_type": "markdown",
      "metadata": {
        "id": "w8t2SsFT0AHr"
      },
      "source": [
        "Visualizing outliers using a boxplot for `video`:"
      ]
    },
    {
      "cell_type": "code",
      "execution_count": null,
      "metadata": {
        "colab": {
          "base_uri": "https://localhost:8080/",
          "height": 564
        },
        "id": "XKP7Kw--z4VM",
        "outputId": "70ca7a70-d99e-4645-b42a-8c7e77a30d9c"
      },
      "outputs": [
        {
          "output_type": "display_data",
          "data": {
            "text/plain": [
              "<Figure size 1200x600 with 1 Axes>"
            ],
            "image/png": "[encoded data removed]"
          },
          "metadata": {}
        }
      ],
      "source": [
        "# Filter for Video content\n",
        "video_data = prime_content[prime_content['contentType'] == 'Video']\n",
        "\n",
        "# Plot the viewDuration for Video content\n",
        "plt.figure(figsize=(12, 6))\n",
        "sns.boxplot(x=video_data['viewDuration'])\n",
        "\n",
        "plt.title('Boxplot of View Duration for Video Content')\n",
        "plt.xlabel('View Duration (minutes)')\n",
        "plt.show()"
      ]
    },
    {
      "cell_type": "markdown",
      "metadata": {
        "id": "8yULy_v9xs14"
      },
      "source": [
        "Once outliers are identified, we can choose to:\n",
        "* Remove them.\n",
        "* Cap values to upper or lower bounds.\n",
        "* Investigate them further to understand if they represent genuine extreme values or data errors.\n",
        "\n",
        "Here, we allow outliers to occur if the user listens to music for a long time, so we ignore these outliers"
      ]
    },
    {
      "cell_type": "markdown",
      "metadata": {
        "id": "OPNJ26Ii0_ot"
      },
      "source": [
        "### Step 3: Ensure Consistent Date Format:"
      ]
    },
    {
      "cell_type": "markdown",
      "metadata": {
        "id": "-oeIZ91l1E93"
      },
      "source": [
        "Ensure that the `watchDate` column follows a unified date format："
      ]
    },
    {
      "cell_type": "code",
      "execution_count": null,
      "metadata": {
        "colab": {
          "base_uri": "https://localhost:8080/"
        },
        "id": "-OJ2VepD1Cis",
        "outputId": "923cfc55-b951-45ca-f702-a624e24b49c5"
      },
      "outputs": [
        {
          "output_type": "stream",
          "name": "stdout",
          "text": [
            "0   2022-09-18 19:36:00\n",
            "1   2022-09-19 19:36:00\n",
            "2   2022-09-20 19:36:00\n",
            "3   2022-09-21 19:36:00\n",
            "4   2022-09-22 19:36:00\n",
            "Name: watchDate, dtype: datetime64[ns]\n"
          ]
        }
      ],
      "source": [
        "# Convert the 'watchDate' column to a consistent date format\n",
        "prime_content['watchDate'] = pd.to_datetime(prime_content['watchDate'], infer_datetime_format=True)\n",
        "\n",
        "# Verify the changes\n",
        "print(prime_content['watchDate'].head())"
      ]
    },
    {
      "cell_type": "markdown",
      "metadata": {
        "id": "UEAT1ifOtOFx"
      },
      "source": [
        "This code will ensure that the `watchDate` column follows the format 'YYYY-MM-DD'. If there are any inconsistencies in the date format in the data, this operation will throw an error, allowing you to further inspect and clean those specific records.\n",
        "\n",
        "**Comments on the Result**:\n",
        "\n",
        "After following the steps above:\n",
        "* We have a clear understanding of missing values in the dataset.\n",
        "* Outliers in the `viewDuration` column are identified and can be treated accordingly.\n",
        "* All dates in the `watchDate` column are ensured to be in a unified format."
      ]
    },
    {
      "cell_type": "markdown",
      "metadata": {
        "id": "BGZ2nwx-1tfJ"
      },
      "source": [
        "## Question 2:\n",
        "**SQL Queries**\n",
        "\n",
        "**Scenario**: The Amazon Prime executive team is keen on understanding user preferences to curate content better. Using the `Prime_Content_Usage` table:\n",
        "\n",
        "a) Identify the top 3 most popular genres among users in the last 6 months.\n",
        "\n",
        "b) For each genre, determine the average `viewDuration`.\n",
        "\n",
        "c) Using a subquery, find out how many unique users accessed content more than 10 times in the last month."
      ]
    },
    {
      "cell_type": "markdown",
      "metadata": {
        "id": "u8DOd7dU1tfJ"
      },
      "source": [
        "## Solution"
      ]
    },
    {
      "cell_type": "markdown",
      "metadata": {
        "id": "_xPVtEfR1tfJ"
      },
      "source": [
        "### **Hint:**\n",
        "1. **Extract Relevant Timeframes**:\n",
        "    * For a) and b): Consider only the data from the last 6 months.\n",
        "    * For c): Consider only the data from the last month.\n",
        "\n",
        "2. **Identify Top Genres**:\n",
        "    * Group by genres and count the number of users for each genre. Then, sort and limit the result to get the top 3 genres.\n",
        "\n",
        "3. **Calculate Average View Duration**:\n",
        "    * For each genre, calculate the average `viewDuration`.\n",
        "\n",
        "4. **Identify Frequent Users**:\n",
        "    * Using a subquery, filter out the users who accessed content more than 10 times in the past month."
      ]
    },
    {
      "cell_type": "markdown",
      "metadata": {
        "id": "qOYbD8e01tfJ"
      },
      "source": [
        "### Step 1: Convert Pandas DataFrame to SQLite Tables:"
      ]
    },
    {
      "cell_type": "code",
      "execution_count": null,
      "metadata": {
        "colab": {
          "base_uri": "https://localhost:8080/"
        },
        "id": "TztOHwL23K7S",
        "outputId": "6312cc87-d3fc-4f1e-af48-8ea48a54ff8e"
      },
      "outputs": [
        {
          "output_type": "execute_result",
          "data": {
            "text/plain": [
              "1000"
            ]
          },
          "metadata": {},
          "execution_count": 11
        }
      ],
      "source": [
        "import sqlite3\n",
        "\n",
        "# Connect to the SQLite database\n",
        "conn = sqlite3.connect('example.db')\n",
        "prime_content.to_sql('Prime_Content_Usage', conn, if_exists='replace', index=False)\n",
        "prime_deliveries.to_sql('Prime_Deliveries', conn, if_exists='replace', index=False)"
      ]
    },
    {
      "cell_type": "markdown",
      "metadata": {
        "id": "k88xASfc3MX_"
      },
      "source": [
        "### Step 2: SQL Queries:"
      ]
    },
    {
      "cell_type": "markdown",
      "metadata": {
        "id": "0BAslaJY3PBQ"
      },
      "source": [
        "**a) Top 3 genres from the last 6 months:**"
      ]
    },
    {
      "cell_type": "code",
      "execution_count": null,
      "metadata": {
        "colab": {
          "base_uri": "https://localhost:8080/",
          "height": 139
        },
        "id": "SXhq86zj3PVl",
        "outputId": "a14d06f0-3eda-4e00-acd6-726fa8dbdc75"
      },
      "outputs": [
        {
          "output_type": "stream",
          "name": "stdout",
          "text": [
            " * sqlite:///example.db\n",
            "Done.\n"
          ]
        },
        {
          "output_type": "execute_result",
          "data": {
            "text/plain": [
              "[('Jazz', 136), ('Drama', 122), ('Action', 118)]"
            ],
            "text/html": [
              "<table>\n",
              "    <thead>\n",
              "        <tr>\n",
              "            <th>genre</th>\n",
              "            <th>user_count</th>\n",
              "        </tr>\n",
              "    </thead>\n",
              "    <tbody>\n",
              "        <tr>\n",
              "            <td>Jazz</td>\n",
              "            <td>136</td>\n",
              "        </tr>\n",
              "        <tr>\n",
              "            <td>Drama</td>\n",
              "            <td>122</td>\n",
              "        </tr>\n",
              "        <tr>\n",
              "            <td>Action</td>\n",
              "            <td>118</td>\n",
              "        </tr>\n",
              "    </tbody>\n",
              "</table>"
            ]
          },
          "metadata": {},
          "execution_count": 12
        }
      ],
      "source": [
        "%%sql\n",
        "SELECT\n",
        "    genre,\n",
        "    COUNT(DISTINCT userID) as user_count\n",
        "FROM\n",
        "    Prime_Content_Usage\n",
        "WHERE\n",
        "    watchDate >= DATE('now', '-6 months')\n",
        "GROUP BY\n",
        "    genre\n",
        "ORDER BY\n",
        "    user_count DESC\n",
        "LIMIT 3;"
      ]
    },
    {
      "cell_type": "markdown",
      "metadata": {
        "id": "unqGlZXl4NRo"
      },
      "source": [
        "**b) Average `viewDuration` for each genre:**"
      ]
    },
    {
      "cell_type": "code",
      "execution_count": null,
      "metadata": {
        "colab": {
          "base_uri": "https://localhost:8080/",
          "height": 353
        },
        "id": "qrF29yKm4Pv6",
        "outputId": "f6f1552d-9a18-4259-b752-bd7d7b75ba43"
      },
      "outputs": [
        {
          "output_type": "stream",
          "name": "stdout",
          "text": [
            " * sqlite:///example.db\n",
            "Done.\n"
          ]
        },
        {
          "output_type": "execute_result",
          "data": {
            "text/plain": [
              "[('ACTION', 91.38443478277736),\n",
              " ('Action', 92.30938167525622),\n",
              " ('COMEDY', 89.92744538175096),\n",
              " ('Comedy', 97.6036486838469),\n",
              " ('DRAMA', 107.70520649967008),\n",
              " ('Drama', 92.63674143737673),\n",
              " ('JAZZ', 5.816302395628179),\n",
              " ('Jazz', 5.286443501779457),\n",
              " ('POP', 4.343039938953089),\n",
              " ('Pop', 6.374392154346782),\n",
              " ('ROCK', 4.780675251740812),\n",
              " ('Rock', 5.560272543669371),\n",
              " ('Unknown', 52.40185556322066)]"
            ],
            "text/html": [
              "<table>\n",
              "    <thead>\n",
              "        <tr>\n",
              "            <th>genre</th>\n",
              "            <th>avg_duration</th>\n",
              "        </tr>\n",
              "    </thead>\n",
              "    <tbody>\n",
              "        <tr>\n",
              "            <td>ACTION</td>\n",
              "            <td>91.38443478277736</td>\n",
              "        </tr>\n",
              "        <tr>\n",
              "            <td>Action</td>\n",
              "            <td>92.30938167525622</td>\n",
              "        </tr>\n",
              "        <tr>\n",
              "            <td>COMEDY</td>\n",
              "            <td>89.92744538175096</td>\n",
              "        </tr>\n",
              "        <tr>\n",
              "            <td>Comedy</td>\n",
              "            <td>97.6036486838469</td>\n",
              "        </tr>\n",
              "        <tr>\n",
              "            <td>DRAMA</td>\n",
              "            <td>107.70520649967008</td>\n",
              "        </tr>\n",
              "        <tr>\n",
              "            <td>Drama</td>\n",
              "            <td>92.63674143737673</td>\n",
              "        </tr>\n",
              "        <tr>\n",
              "            <td>JAZZ</td>\n",
              "            <td>5.816302395628179</td>\n",
              "        </tr>\n",
              "        <tr>\n",
              "            <td>Jazz</td>\n",
              "            <td>5.286443501779457</td>\n",
              "        </tr>\n",
              "        <tr>\n",
              "            <td>POP</td>\n",
              "            <td>4.343039938953089</td>\n",
              "        </tr>\n",
              "        <tr>\n",
              "            <td>Pop</td>\n",
              "            <td>6.374392154346782</td>\n",
              "        </tr>\n",
              "        <tr>\n",
              "            <td>ROCK</td>\n",
              "            <td>4.780675251740812</td>\n",
              "        </tr>\n",
              "        <tr>\n",
              "            <td>Rock</td>\n",
              "            <td>5.560272543669371</td>\n",
              "        </tr>\n",
              "        <tr>\n",
              "            <td>Unknown</td>\n",
              "            <td>52.40185556322066</td>\n",
              "        </tr>\n",
              "    </tbody>\n",
              "</table>"
            ]
          },
          "metadata": {},
          "execution_count": 13
        }
      ],
      "source": [
        "%%sql\n",
        "SELECT\n",
        "    genre,\n",
        "    AVG(viewDuration) as avg_duration\n",
        "FROM\n",
        "    Prime_Content_Usage\n",
        "WHERE\n",
        "    watchDate >= DATE('now', '-6 months')\n",
        "GROUP BY\n",
        "    genre;"
      ]
    },
    {
      "cell_type": "markdown",
      "metadata": {
        "id": "LXpz3xP54T5k"
      },
      "source": [
        "**c) Unique users who accessed content more than 10 times in the last month:**"
      ]
    },
    {
      "cell_type": "code",
      "execution_count": null,
      "metadata": {
        "colab": {
          "base_uri": "https://localhost:8080/",
          "height": 96
        },
        "id": "cS1esd2S4VSo",
        "outputId": "080fa6e5-8250-44e9-d6b8-74dec2bdb32e"
      },
      "outputs": [
        {
          "output_type": "stream",
          "name": "stdout",
          "text": [
            " * sqlite:///example.db\n",
            "Done.\n"
          ]
        },
        {
          "output_type": "execute_result",
          "data": {
            "text/plain": [
              "[(0,)]"
            ],
            "text/html": [
              "<table>\n",
              "    <thead>\n",
              "        <tr>\n",
              "            <th>frequent_user_count</th>\n",
              "        </tr>\n",
              "    </thead>\n",
              "    <tbody>\n",
              "        <tr>\n",
              "            <td>0</td>\n",
              "        </tr>\n",
              "    </tbody>\n",
              "</table>"
            ]
          },
          "metadata": {},
          "execution_count": 14
        }
      ],
      "source": [
        "%%sql\n",
        "SELECT\n",
        "    COUNT(DISTINCT userID) as frequent_user_count\n",
        "FROM\n",
        "    (\n",
        "        SELECT\n",
        "            userID,\n",
        "            COUNT(contentID) as access_count\n",
        "        FROM\n",
        "            Prime_Content_Usage\n",
        "        WHERE\n",
        "            watchDate >= DATE('now', '-1 month')\n",
        "        GROUP BY\n",
        "            userID\n",
        "        HAVING\n",
        "            access_count > 10\n",
        "    );"
      ]
    },
    {
      "cell_type": "markdown",
      "metadata": {
        "id": "xXcNFPPN2htP"
      },
      "source": [
        "### **Comments on the Result:**\n",
        "\n",
        "- The results of query a)  shows that Jazz music and Drama and Action video content are currently trending and in high demand on Amazon Prime.\n",
        "  \n",
        "- From query (b), we get insights into the average duration viewers are engaged in content for different genres. A few notable points:\n",
        "\n",
        "  - `Drama` has two types in the dataset: One with an average duration of approximately 107.71 minutes (presumably movies) and another at 92.64 minutes (potentially TV episodes).\n",
        "  - `Jazz` music listeners spend, on average, around 5.81 minutes on content.\n",
        "  - `Action` also has two different representations in the dataset, but their durations are closely matched around 91.5 minutes.\n",
        "\n",
        "  It's evident that certain genres like Drama tend to have longer view durations, possibly hinting at the depth and engaging nature of such content. On the other hand, music genres like Jazz have shorter average durations, as users might be sampling multiple tracks.\n",
        "\n",
        "- Query c) showed that there were no users who accessed content more than 10 times in the last month. This is surprising and could indicate a potential data issue or perhaps a more significant trend in user behavior that warrants investigation.\n"
      ]
    },
    {
      "cell_type": "markdown",
      "metadata": {
        "id": "xd2FKCDd518H"
      },
      "source": [
        "## Question 3:\n",
        "\n",
        "**Probability and Statistical Analysis**\n",
        "\n",
        "\n",
        "**Scenario**: Amazon Prime is exploring the likelihood of delivery delays based on historical data to anticipate and mitigate any future challenges.\n",
        "\n",
        "a) Using the `Prime_Deliveries` table, determine the probability distribution of `delayReason`.\n",
        "\n",
        "b) Calculate the average delay time when the `delayReason` is \"Weather disruptions\".\n",
        "\n",
        "c) Implement the above calculation using a coding language of your choice to obtain the result."
      ]
    },
    {
      "cell_type": "markdown",
      "metadata": {
        "id": "5d8Cpj4z518H"
      },
      "source": [
        "## Solution"
      ]
    },
    {
      "cell_type": "markdown",
      "metadata": {
        "id": "jtAk2ml4518H"
      },
      "source": [
        "### **Hint:**\n",
        "1. **Data Manipulation & Cleaning**:\n",
        "    * Check for missing values in `prime_deliveries`.\n",
        "    * Ensure appropriate data types for each column, especially dates.\n",
        "    \n",
        "2. **Probability Distribution of `delayReason`**:\n",
        "    * Count the occurrences of each delay reason.\n",
        "    * Compute the probabilities for each reason.\n",
        "\n",
        "3. **Calculate Average Delay Time for Weather Disruptions**:\n",
        "    * Filter rows where the `delayReason` is \"Weather disruptions\".\n",
        "    * Calculate the difference between `actualDeliveryDate` and `deliveryDate` to get delay in days.\n",
        "    * Compute the average delay.\n",
        "\n",
        "4. **Coding Implementation**:\n",
        "    * Use the pandas library to execute the above steps and obtain results."
      ]
    },
    {
      "cell_type": "markdown",
      "metadata": {
        "id": "91Ag82lK68au"
      },
      "source": [
        "### Step 1: Data Manipulation & Cleaning:"
      ]
    },
    {
      "cell_type": "code",
      "execution_count": null,
      "metadata": {
        "colab": {
          "base_uri": "https://localhost:8080/"
        },
        "id": "-dEPab2f7HMT",
        "outputId": "b7ca0134-c412-491b-fde2-2428e81fcfee"
      },
      "outputs": [
        {
          "output_type": "stream",
          "name": "stdout",
          "text": [
            "orderID                 0\n",
            "userID                  0\n",
            "orderDate               0\n",
            "deliveryDate            0\n",
            "actualDeliveryDate      0\n",
            "delayReason           707\n",
            "dtype: int64\n"
          ]
        }
      ],
      "source": [
        "# Checking for missing values in prime_deliveries\n",
        "print(prime_deliveries.isnull().sum())\n",
        "\n",
        "# Ensuring date columns are in datetime format\n",
        "prime_deliveries['orderDate'] = pd.to_datetime(prime_deliveries['orderDate'])\n",
        "prime_deliveries['deliveryDate'] = pd.to_datetime(prime_deliveries['deliveryDate'])\n",
        "prime_deliveries['actualDeliveryDate'] = pd.to_datetime(prime_deliveries['actualDeliveryDate'])"
      ]
    },
    {
      "cell_type": "markdown",
      "metadata": {
        "id": "PitwVV8s7Nwn"
      },
      "source": [
        "### Step 2: Probability Distribution of `delayReason`:"
      ]
    },
    {
      "cell_type": "code",
      "execution_count": null,
      "metadata": {
        "colab": {
          "base_uri": "https://localhost:8080/"
        },
        "id": "yyXqkPOr72PP",
        "outputId": "c7a5deb1-8dfc-4127-f4e0-8e2b2a822bd2"
      },
      "outputs": [
        {
          "output_type": "stream",
          "name": "stdout",
          "text": [
            "Warehouse delays        0.097\n",
            "Weather disruptions     0.087\n",
            "Logistical issues       0.066\n",
            "Wheather disruptions    0.013\n",
            "WEATHER DISRUPTIONS     0.011\n",
            "WAREHOUSE DELAYS        0.009\n",
            "LOGISTICAL ISSUES       0.007\n",
            "WHEATHER DISRUPTIONS    0.003\n",
            "Name: delayReason, dtype: float64\n"
          ]
        }
      ],
      "source": [
        "# Count occurrences of each delay reason\n",
        "delay_counts = prime_deliveries['delayReason'].value_counts()\n",
        "\n",
        "# Calculate probabilities\n",
        "total_deliveries = len(prime_deliveries)\n",
        "delay_probabilities = delay_counts / total_deliveries\n",
        "\n",
        "print(delay_probabilities)"
      ]
    },
    {
      "cell_type": "markdown",
      "metadata": {
        "id": "hs3k91We74mz"
      },
      "source": [
        "### Step 3: Calculate Average Delay Time for Weather Disruptions:"
      ]
    },
    {
      "cell_type": "code",
      "execution_count": null,
      "metadata": {
        "colab": {
          "base_uri": "https://localhost:8080/"
        },
        "id": "56AtSBK876be",
        "outputId": "441cc87b-1e74-4d0a-a90f-f05396818e70"
      },
      "outputs": [
        {
          "output_type": "stream",
          "name": "stdout",
          "text": [
            "Average delay due to weather disruptions: 1.471264367816092 days\n"
          ]
        }
      ],
      "source": [
        "# Filter rows for 'Weather disruptions'\n",
        "weather_delays = prime_deliveries[prime_deliveries['delayReason'] == 'Weather disruptions']\n",
        "\n",
        "# Calculate delay in days for each row\n",
        "weather_delays['delayDuration'] = (weather_delays['actualDeliveryDate'] - weather_delays['deliveryDate']).dt.days\n",
        "\n",
        "# Compute average delay\n",
        "average_weather_delay = weather_delays['delayDuration'].mean()\n",
        "\n",
        "print(f\"Average delay due to weather disruptions: {average_weather_delay} days\")"
      ]
    },
    {
      "cell_type": "markdown",
      "metadata": {
        "id": "iyZhA9t-6w3q"
      },
      "source": [
        "\n",
        "\n",
        "### Comments on the Result:\n",
        "\n",
        "- The probability distribution of `delayReason` provides insights into the most common reasons for delivery delays. This can guide Amazon's logistics team in preparing for and mitigating potential issues in the future.\n",
        "  \n",
        "- The average delay due to weather disruptions can be crucial for planning. If the average delay is significant, Amazon might consider implementing weather forecast integrations into their logistics planning or communicating potential delays to customers in advance during certain seasons.\n"
      ]
    },
    {
      "cell_type": "markdown",
      "metadata": {
        "id": "Kip7j1tw-Llw"
      },
      "source": [
        "## Question 4:\n",
        "\n",
        "**Product & Business Sense**\n",
        "\n",
        "**Scenario**: With the insights you've gathered from both the `Prime_Content_Usage` and `Prime_Deliveries` tables:\n",
        "\n",
        "a) Propose a data-driven strategy to improve content curation for Prime Video and Music.\n",
        "\n",
        "b) Recommend steps to alleviate common reasons for delivery delays, ensuring expedited shipping for Prime users."
      ]
    },
    {
      "cell_type": "markdown",
      "metadata": {
        "id": "7J5AtlXg-Llx"
      },
      "source": [
        "## Solution"
      ]
    },
    {
      "cell_type": "markdown",
      "metadata": {
        "id": "aSa_PeSCB64X"
      },
      "source": [
        "### a) Propose a data-driven strategy to improve content curation for Prime Video and Music:"
      ]
    },
    {
      "cell_type": "markdown",
      "metadata": {
        "id": "wXfX6t83Ej7O"
      },
      "source": [
        "#### **Insights**:\n",
        "\n",
        "1. **Genre Popularity**: The top 3 genres over the last six months are Jazz, Drama, and Action.\n",
        "   \n",
        "2. **User Engagement**: Drama has a higher average view duration, suggesting longer engagement. No users accessed content more than 10 times in the last month, pointing towards an engagement or discovery issue.\n",
        "\n",
        "#### **Recommendations**:\n",
        "\n",
        "1. **Focus on Popular Genres**:\n",
        "   * **Jazz**: Collaborate with famous Jazz musicians to have exclusive tracks or albums released on Amazon Prime first. Organize virtual Jazz events or concerts exclusive to Prime users. This exclusivity can attract more Jazz enthusiasts to the platform.\n",
        "   * **Drama**: Negotiate contracts for critically acclaimed Drama series or movies from various regions and languages, ensuring a broad and diverse content palette.\n",
        "   * **Action**: Consider producing original Action content, especially localized in regions where Prime has a significant user base. Exploring genres like regional action-thrillers could provide unique content that competitors might not have.\n",
        "   \n",
        "2. **Enhance User Engagement**:\n",
        "   * **Content Discovery**: Revamp the content discovery algorithm. The home screen should present users with a mix of their preferred genres and new content. Utilize machine learning to anticipate user preferences based on viewing history and other users with similar patterns.\n",
        "   * **Recommendation System**: Integrate a more responsive recommendation system. After watching a Drama movie, for instance, suggest a popular drama series. Or after listening to a Jazz track, recommend a related album or artist.\n",
        "   * **User Feedback**: Incorporate a feedback mechanism where users can rate or review content. This feedback can further refine the recommendation system and highlight potential areas of content improvement."
      ]
    },
    {
      "cell_type": "markdown",
      "metadata": {
        "id": "QqpwfgbwEYq4"
      },
      "source": [
        "### b) Recommend steps to alleviate common reasons for delivery delays, ensuring expedited shipping for Prime users:"
      ]
    },
    {
      "cell_type": "markdown",
      "metadata": {
        "id": "CcRn2lQsEdDk"
      },
      "source": [
        "#### **Insights**:\n",
        "\n",
        "1. **Delay Reasons**: Warehouse delays, weather disruptions, and logistical issues are primary reasons. Also, data inconsistency is observed, indicating a lack of standardization.\n",
        "\n",
        "2. **Delay Duration**: Weather-related delays average about 1.47 days.\n",
        "\n",
        "#### **Recommendations**:\n",
        "\n",
        "1. **Combat Warehouse Delays**:\n",
        "   * **Inventory Management**: Implement a real-time inventory management system. It will ensure that products are promptly located, packed, and dispatched. Incorporating automation, like robots for fetching products, can also expedite the process.\n",
        "   * **Predictive Restocking**: Use predictive analytics to anticipate stock requirements based on historical data and trends. This proactive approach can prevent potential out-of-stock situations leading to delays.\n",
        "   \n",
        "2. **Mitigate Weather Disruptions**:\n",
        "   * **Predictive Analysis**: Partner with weather forecasting agencies or integrate platforms like AccuWeather's API. By predicting adverse weather, Amazon can adjust delivery expectations and notify customers in advance.\n",
        "   * **Alternative Routes**: Develop a dynamic routing system that adjusts delivery routes in real-time based on various factors, including weather conditions.\n",
        "\n",
        "3. **Address Logistical Issues**:\n",
        "   * **Delivery Partner Audits**: Regularly evaluate the performance of third-party delivery partners. Poor performers should undergo training or be replaced.\n",
        "   * **Fleet Modernization**: Upgrade the delivery fleet with newer, fuel-efficient models equipped with GPS and real-time tracking for better route optimization.\n",
        "\n",
        "4. **Data Standardization**:\n",
        "   * **Training & Protocols**: Provide training to employees entering delay reasons and enforce strict protocols about data entry. Ensure reasons follow a standardized format.\n",
        "   * **Automated Data Checks**: Implement data validation scripts that run periodically to identify and correct inconsistencies."
      ]
    }
  ],
  "metadata": {
    "colab": {
      "collapsed_sections": [
        "KZyC0_TAztuH",
        "u8DOd7dU1tfJ",
        "5d8Cpj4z518H"
      ],
      "provenance": []
    },
    "kernelspec": {
      "display_name": "Python 3",
      "name": "python3"
    },
    "language_info": {
      "name": "python"
    }
  },
  "nbformat": 4,
  "nbformat_minor": 0
}